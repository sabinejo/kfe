{
 "cells": [
  {
   "cell_type": "code",
   "execution_count": 165,
   "metadata": {
    "collapsed": true
   },
   "outputs": [],
   "source": [
    "import pandas as pd\n",
    "import numpy as np\n",
    "from datetime import datetime\n",
    "import glob\n",
    "from fiona import collection\n",
    "from rtree import index"
   ]
  },
  {
   "cell_type": "code",
   "execution_count": 166,
   "metadata": {},
   "outputs": [],
   "source": [
    "# read excel with country names and codes\n",
    "# return list with country codes relevant for UCDP\n",
    "country_code_pathfile = '/Users/sabine.a.joseph/Desktop/Country_codes_NAMO.xlsx'\n",
    "country_code_column_name = 'UCDP_country_codes'\n",
    "country_code_column_name1 = 'Country_3'\n",
    "sheet = 'Sheet1'\n",
    "\n",
    "def country_codes_from_excel(country_codes, sheet_num, column_name):\n",
    "    countries = pd.ExcelFile(country_codes)\n",
    "    countries = countries.parse(sheet_num)\n",
    "    return list(countries[column_name]) # UCDP uses Gleditsch and Ward country codes\n",
    "\n",
    "CCS = country_codes_from_excel(country_code_pathfile, sheet, country_code_column_name)\n",
    "CC3 = country_codes_from_excel(country_code_pathfile, sheet, country_code_column_name1)"
   ]
  },
  {
   "cell_type": "code",
   "execution_count": 167,
   "metadata": {},
   "outputs": [],
   "source": [
    "UCDP_filename = '/Users/sabine.a.joseph/Downloads/ged50-csv/ged50.csv'\n",
    "country_code_column_name = 'gwno'\n",
    "\n",
    "def csv_to_df(filename, country_codes, csv_country_code_column):\n",
    "    df = pd.read_csv(filename , sep=',')\n",
    "    return df[df[csv_country_code_column].isin(country_codes)]\n",
    "\n",
    "df = csv_to_df(UCDP_filename, CCS, country_code_column_name)\n",
    "df = df.reset_index()"
   ]
  },
  {
   "cell_type": "code",
   "execution_count": 168,
   "metadata": {},
   "outputs": [],
   "source": [
    "# get and format gridcell data\n",
    "df_grid = pd.read_csv('/Users/sabine.a.joseph/Desktop/Gridcells_with_countryinfo.csv', sep = ';')\n",
    "\n",
    "def correct_coordinate_format(df, colname_list):\n",
    "    for i in range(0, len(colname_list)):\n",
    "        df[colname_list[i]] = [(float(df[colname_list[i]][j][:5])) for j in range (0, len(df[colname_list[i]]))]\n",
    "    return df\n",
    "\n",
    "df_grid = correct_coordinate_format(df_grid, ['xmin', 'xmax', 'ymin', 'ymax'])\n",
    "#df_grid.head()"
   ]
  },
  {
   "cell_type": "code",
   "execution_count": 169,
   "metadata": {},
   "outputs": [],
   "source": [
    "def rtree_index_to_bbox_column(df_lon_col, df_lat_col):    \n",
    "    idx = index.Index()\n",
    "    # create rtree index, contains all bounding boxes\n",
    "    for i in range(0, len(df_grid.id)):\n",
    "        # if interleaved is True: xmin, ymin, xmax, ymax\n",
    "        idx.insert(i, (df_grid.xmin[i], df_grid.ymin[i], df_grid.xmax[i], df_grid.ymax[i]))\n",
    "    \n",
    "    # retrieve intersection idx for each coordinate pair\n",
    "    return [(list(idx.intersection((float(df_lon_col[i]), float(df_lat_col[i]), \n",
    "                                    float(df_lon_col[i]), float(df_lat_col[i])))))[0]\n",
    "            if (list(idx.intersection((float(df_lon_col[i]), float(df_lat_col[i]), \n",
    "                                    float(df_lon_col[i]), float(df_lat_col[i])))))\n",
    "            else np.nan for i in range (0, df.shape[0])]\n",
    "\n",
    "df['bbox'] = rtree_index_to_bbox_column(df.longitude, df.latitude)"
   ]
  },
  {
   "cell_type": "code",
   "execution_count": 170,
   "metadata": {
    "collapsed": true
   },
   "outputs": [],
   "source": [
    "# save raw df\n",
    "def df_to_csv(df, path, filename):\n",
    "    df.to_csv(path + filename)\n",
    "\n",
    "# example input and call\n",
    "path = '/Users/sabine.a.joseph/Desktop/'\n",
    "csv_name = 'UCDP_NaMo_subset.csv'\n",
    "df_to_csv(df, path, csv_name) "
   ]
  },
  {
   "cell_type": "code",
   "execution_count": 171,
   "metadata": {},
   "outputs": [],
   "source": [
    "# date column to datetime index\n",
    "df = df.reset_index(drop=True)\n",
    "df.date_start = [str(df.date_start[i])[:-3] for i in range (0, len(df.date_start)) if i is not None]\n",
    "\n",
    "def str_to_datetime(col_name, dateformat):\n",
    "    return [datetime.strptime(str(df[col_name][i]), dateformat) for i in range(0, df.shape[0]) if i is not None]\n",
    "\n",
    "df_datestring_column_name = 'date_start'\n",
    "dateformat = '%Y-%m'\n",
    "df[df_datestring_column_name] = str_to_datetime(df_datestring_column_name, dateformat)\n",
    "df.index = df[df_datestring_column_name]"
   ]
  },
  {
   "cell_type": "code",
   "execution_count": 175,
   "metadata": {},
   "outputs": [],
   "source": [
    "# aggregate per country / bbox and month\n",
    "# index needs to be datetime\n",
    "# enter country_col_name as geo-switch: takes country code or bbox\n",
    "def agg_by_geo_by_month(df, agg_dict, country_col_name):\n",
    "    agg_df = df.groupby([df.index, country_col_name]).agg(aggregations)\n",
    "    agg_df = agg_df.reset_index()\n",
    "    agg_df.columns = agg_df.columns.get_level_values(0)\n",
    "    return agg_df\n",
    "    \n",
    "df['count_num_daily_events'] = 1 \n",
    "\n",
    "# create aggregates\n",
    "aggregations = {\n",
    "    'number_of_sources' : {'number_of_sources': 'sum'},\n",
    "    'deaths_b' : {'deaths_b': 'sum'},\n",
    "    'deaths_a' : {'deaths_a': 'sum'},\n",
    "    'deaths_civilians' : {'deaths_civilians': 'sum'},\n",
    "    'deaths_unknown' : {'deaths_unknown': 'sum'},\n",
    "    'best_est' : {'best_est_events': 'sum'},\n",
    "    'high_est' : {'high_est_events': 'sum'},\n",
    "    'low_est' : {'low_est_events': 'sum'},\n",
    "    'count_num_daily_events' : {'count_num_daily_events': 'sum'}\n",
    "}\n",
    "\n",
    "# geo-level aggregation switch: country vs grid\n",
    "# geo-level aggregation switch: country vs grid\n",
    "country_code = 'gwno'\n",
    "bbox = 'bbox'\n",
    "\n",
    "agg_df = agg_by_geo_by_month(df, aggregations, country_code) # or 'bbox' for grid level aggregation\n"
   ]
  },
  {
   "cell_type": "code",
   "execution_count": 176,
   "metadata": {
    "collapsed": true
   },
   "outputs": [],
   "source": [
    "# save agg df 2x\n",
    "def df_to_csv(df, path, filename):\n",
    "    df.to_csv(path + filename)\n",
    "\n",
    "path = '/Users/sabine.a.joseph/Desktop/'\n",
    "\n",
    "if bbox in agg_df.columns:\n",
    "    csv_name = 'UCDP_NaMo_agg_subset_BBOX.csv'\n",
    "else:\n",
    "    csv_name = 'UCDP_NaMo_agg_subset_COUNTRY.csv'\n",
    "\n",
    "df_to_csv(agg_df, path, csv_name) "
   ]
  },
  {
   "cell_type": "code",
   "execution_count": null,
   "metadata": {
    "collapsed": true
   },
   "outputs": [],
   "source": [
    "# filter by type of crisis --- check with Oliver\n",
    "# type_of_violence # 1: state-based conflict # 2: non-state conflict # 3: one-sided violence\n",
    "df = df[df['type_of_violence'].isin([1, 3])]\n",
    "\n",
    "\n",
    "# df = df[df.date_prec > 1] \n",
    "\n",
    "# ? conflict_new_id #as filter? -- existing conflict -- ask Oliver\n",
    "#df.loc[(df['conflict_new_id'] == 426) & df['type_of_violence'].isin([1, 3]))]\n",
    "#df.loc[(df['type_of_violence'].isin([426, 234]) & df['type_of_violence'].isin([1, 3]))]\n",
    "\n",
    "# filter by event_clarity?\n",
    "\n",
    "### to use:\n",
    "# date var: \n",
    "# combination of: date_start, date_end\n",
    "# date_prec #duration of event, only chose date_prec = 1 (verify with Oliver?)\n",
    "# df = df.loc[(df['date_prec'] == 1)]\n",
    "\n",
    "# -> date_start = date_end - chose as event date\n",
    "# or always chose date_start as date\n",
    "# del df.date_end\n",
    "\n",
    "# number_of_sources #importance - only valid for yr 2013 and 2014\n",
    "# del df.event_clarity\n"
   ]
  },
  {
   "cell_type": "code",
   "execution_count": 117,
   "metadata": {},
   "outputs": [],
   "source": [
    "# get date range for all dates\n",
    "all_days = pd.date_range(df_agg.index.get_level_values('date_start').min(), \n",
    "                         df_agg.index.get_level_values('date_start').max(), freq='D')\n",
    "\n",
    "\n",
    "#df_agg.index.get_level_values('date_start')\n",
    "#df_agg.index.get_level_values('gwno')\n",
    "\n",
    "#df.reindex(all_days)\n",
    "\n",
    "# fill with NaNs for missing dates (days) and country codes\n",
    "# so that we can merge with data from other DBs\n",
    "\n",
    "#df.loc[all_days]\n",
    "\n",
    "#repeat for gwno"
   ]
  }
 ],
 "metadata": {
  "anaconda-cloud": {},
  "kernelspec": {
   "display_name": "Python 2",
   "language": "python",
   "name": "python2"
  },
  "language_info": {
   "codemirror_mode": {
    "name": "ipython",
    "version": 2
   },
   "file_extension": ".py",
   "mimetype": "text/x-python",
   "name": "python",
   "nbconvert_exporter": "python",
   "pygments_lexer": "ipython2",
   "version": "2.7.13"
  }
 },
 "nbformat": 4,
 "nbformat_minor": 2
}
