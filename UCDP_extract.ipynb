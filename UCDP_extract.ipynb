{
 "cells": [
  {
   "cell_type": "code",
   "execution_count": 155,
   "metadata": {
    "collapsed": true
   },
   "outputs": [],
   "source": [
    "import pandas as pd\n",
    "import numpy as np\n",
    "from datetime import datetime"
   ]
  },
  {
   "cell_type": "code",
   "execution_count": 156,
   "metadata": {
    "collapsed": false
   },
   "outputs": [],
   "source": [
    "# read excel with country names and codes\n",
    "# return list with country codes relevant for UCDP\n",
    "country_code_pathfile = '/Users/sabine.a.joseph/Documents/Country_Feature_documentation/Country_codes_NAMO.xlsx'\n",
    "country_code_column_name = 'UCDP_country_codes'\n",
    "sheet = 'Sheet1'\n",
    "\n",
    "def country_codes_from_excel(country_codes, sheet_num, column_name):\n",
    "    countries = pd.ExcelFile(country_codes)\n",
    "    countries = countries.parse(sheet_num)\n",
    "    return list(countries[column_name]) # UCDP uses Gleditsch and Ward country codes\n",
    "\n",
    "CCS = country_codes_from_excel(country_code_pathfile, sheet, country_code_column_name)"
   ]
  },
  {
   "cell_type": "code",
   "execution_count": 157,
   "metadata": {
    "collapsed": false
   },
   "outputs": [],
   "source": [
    "UCDP_filename = '/Users/sabine.a.joseph/Downloads/ged50-csv/ged50.csv'\n",
    "country_code_column_name = 'gwno'\n",
    "\n",
    "def csv_to_df(filename, country_codes, csv_country_code_column):\n",
    "    df = pd.read_csv(filename , sep=',')\n",
    "    return df[df[csv_country_code_column].isin(country_codes)]\n",
    "\n",
    "df = csv_to_df(UCDP_filename, CCS, country_code_column_name)"
   ]
  },
  {
   "cell_type": "code",
   "execution_count": 158,
   "metadata": {
    "collapsed": false
   },
   "outputs": [],
   "source": [
    "# delete not to be used columns\n",
    "# 'id' # only keep for data cleaning \n",
    "vars_to_del = ['relid', 'year', 'active_year', 'conflict_dset_id', 'conflict_name', 'dyad_dset_id',\n",
    "               'dyad_new_id', 'dyad_name', 'side_a_dset_id', 'side_a_new_id', 'side_a', 'side_b_dset_id',\n",
    "               'side_b_new_id', 'side_b', 'source_date', 'source_headline', 'source_office', 'source_original',\n",
    "               'where_prec', 'where_coordinates', 'where_description', 'adm_1', 'adm_2', 'latitude', 'longitude',\n",
    "               'geom_wkt', 'priogrid_gid', 'country', 'region', 'isocc', 'gwab']\n",
    "\n",
    "def del_columns_from_df(col_names):\n",
    "    for i in col_names:\n",
    "        del df[i]\n",
    "    return df\n",
    "\n",
    "df = del_columns_from_df(vars_to_del)"
   ]
  },
  {
   "cell_type": "code",
   "execution_count": 154,
   "metadata": {
    "collapsed": false
   },
   "outputs": [
    {
     "name": "stdout",
     "output_type": "stream",
     "text": [
      "(63482, 17)\n"
     ]
    }
   ],
   "source": [
    "# str index to datetime\n",
    "df = df.reset_index(drop=True)\n",
    "\n",
    "df_datestring_column_name = 'date_start'\n",
    "dateformat = '%Y-%m-%d'\n",
    "\n",
    "def str_to_datetime(col_name, dateformat):\n",
    "    return [datetime.strptime(str(df[col_name][i]), dateformat) \n",
    "            for i in range(0, len(df[col_name])) if i is not None]\n",
    "\n",
    "df[df_datestring_column_name] = str_to_datetime(df_datestring_column_name, dateformat)\n"
   ]
  },
  {
   "cell_type": "code",
   "execution_count": null,
   "metadata": {
    "collapsed": true
   },
   "outputs": [],
   "source": [
    "# filter by type of crisis --- check with Oliver\n",
    "# type_of_violence # 1: state-based conflict # 2: non-state conflict # 3: one-sided violence\n",
    "df = df[df['type_of_violence'].isin([1, 3])]\n",
    "\n",
    "\n",
    "# df = df[df.date_prec > 1] \n",
    "\n",
    "# ? conflict_new_id #as filter? -- existing conflict -- ask Oliver\n",
    "#df.loc[(df['conflict_new_id'] == 426) & df['type_of_violence'].isin([1, 3]))]\n",
    "#df.loc[(df['type_of_violence'].isin([426, 234]) & df['type_of_violence'].isin([1, 3]))]\n",
    "\n",
    "# filter by event_clarity?\n",
    "\n",
    "### to use:\n",
    "# date var: \n",
    "# combination of: date_start, date_end\n",
    "# date_prec #duration of event, only chose date_prec = 1 (verify with Oliver?)\n",
    "# df = df.loc[(df['date_prec'] == 1)]\n",
    "\n",
    "# -> date_start = date_end - chose as event date\n",
    "# or always chose date_start as date\n",
    "# del df.date_end\n",
    "\n",
    "# number_of_sources #importance - only valid for yr 2013 and 2014\n",
    "# del df.event_clarity\n"
   ]
  },
  {
   "cell_type": "code",
   "execution_count": 170,
   "metadata": {
    "collapsed": false
   },
   "outputs": [],
   "source": [
    "# grouping by date per country code\n",
    "col_name_date = 'date_start'\n",
    "col_name_country_codes = 'gwno'\n",
    "agg_col_names = ['deaths_a', 'deaths_b', 'deaths_civilians', 'deaths_unknown', 'best_est', 'high_est', 'low_est']\n",
    "event_count_col_name = 'count_num_daily_events'\n",
    "\n",
    "def group_by_country_code_date_agg_sum(date, CC, col_name_list, ct_col_name):\n",
    "# sum of death counts\n",
    "# count of events per day per country code\n",
    "    df[ct_col_name] = 1 \n",
    "    col_name_list.append(ct_col_name)\n",
    "    return df.groupby([date, CC]).agg(dict.fromkeys(col_name_list, sum))\n",
    "    \n",
    "df_agg = group_by_country_code_date_agg_sum(col_name_date, col_name_country_codes, agg_col_names, event_count_col_name)\n",
    "#df_agg.reset_index()\n",
    "#df_agg"
   ]
  },
  {
   "cell_type": "code",
   "execution_count": 117,
   "metadata": {
    "collapsed": false
   },
   "outputs": [],
   "source": [
    "# get date range for all dates\n",
    "all_days = pd.date_range(df_agg.index.get_level_values('date_start').min(), \n",
    "                         df_agg.index.get_level_values('date_start').max(), freq='D')\n",
    "\n",
    "\n",
    "#df_agg.index.get_level_values('date_start')\n",
    "#df_agg.index.get_level_values('gwno')\n",
    "\n",
    "#df.reindex(all_days)\n",
    "\n",
    "# fill with NaNs for missing dates (days) and country codes\n",
    "# so that we can merge with data from other DBs\n",
    "\n",
    "#df.loc[all_days]\n",
    "\n",
    "#repeat for gwno"
   ]
  },
  {
   "cell_type": "code",
   "execution_count": 120,
   "metadata": {
    "collapsed": false
   },
   "outputs": [
    {
     "data": {
      "text/plain": [
       "'2015-12-31'"
      ]
     },
     "execution_count": 120,
     "metadata": {},
     "output_type": "execute_result"
    }
   ],
   "source": [
    "#all_days = pd.date_range(df_agg.index.min(), df_agg.index.max(), freq='D')\n",
    "df_agg.index.get_level_values('date_start').max()"
   ]
  },
  {
   "cell_type": "code",
   "execution_count": null,
   "metadata": {
    "collapsed": true
   },
   "outputs": [],
   "source": [
    "# create empty tabel with desired format \n",
    "# join df_agg on empty table"
   ]
  }
 ],
 "metadata": {
  "kernelspec": {
   "display_name": "Python 2",
   "language": "python",
   "name": "python2"
  },
  "language_info": {
   "codemirror_mode": {
    "name": "ipython",
    "version": 2
   },
   "file_extension": ".py",
   "mimetype": "text/x-python",
   "name": "python",
   "nbconvert_exporter": "python",
   "pygments_lexer": "ipython2",
   "version": "2.7.13"
  }
 },
 "nbformat": 4,
 "nbformat_minor": 2
}
