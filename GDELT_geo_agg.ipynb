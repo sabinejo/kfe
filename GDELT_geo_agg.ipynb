{
 "cells": [
  {
   "cell_type": "code",
   "execution_count": 3,
   "metadata": {
    "collapsed": true
   },
   "outputs": [],
   "source": [
    "import os\n",
    "import numpy as np\n",
    "from datetime import datetime\n",
    "import glob\n",
    "from rtree import index\n",
    "import math\n",
    "import pandas as pd"
   ]
  },
  {
   "cell_type": "code",
   "execution_count": 78,
   "metadata": {
    "collapsed": true
   },
   "outputs": [],
   "source": [
    "path = '/Users/sabine.a.joseph/Downloads/'\n",
    "df = pd.read_csv(path + 'gdelt_20140101_20140131.csv')"
   ]
  },
  {
   "cell_type": "code",
   "execution_count": 79,
   "metadata": {},
   "outputs": [],
   "source": [
    "# get and format gridcell data\n",
    "df_grid = pd.read_csv('/Users/sabine.a.joseph/Documents/Gridcells_countrydata.csv', sep = ';')\n",
    "\n",
    "def correct_coordinate_format(df, colname_list):\n",
    "    for i in range(0, len(colname_list)):\n",
    "        df[colname_list[i]] = [(float(df[colname_list[i]][j][:5])) for j in range (0, len(df[colname_list[i]]))]\n",
    "    return df\n",
    "\n",
    "df_grid = correct_coordinate_format(df_grid, ['xmin', 'xmax', 'ymin', 'ymax'])"
   ]
  },
  {
   "cell_type": "code",
   "execution_count": 80,
   "metadata": {},
   "outputs": [],
   "source": [
    "def rtree_index_to_bbox_column(df_lon_col, df_lat_col):    \n",
    "    idx = index.Index()\n",
    "    # create rtree index, contains all bounding boxes\n",
    "    for i in range(0, len(df_grid.id)):\n",
    "        # if interleaved is True: xmin, ymin, xmax, ymax\n",
    "        idx.insert(i, (df_grid.xmin[i], df_grid.ymin[i], df_grid.xmax[i], df_grid.ymax[i]))\n",
    "    \n",
    "    # retrieve intersection idx for each coordinate pair\n",
    "    return [(list(idx.intersection((float(df_lon_col[i]), float(df_lat_col[i]), \n",
    "                                    float(df_lon_col[i]), float(df_lat_col[i])))))[0]\n",
    "            if math.isnan(df_lat_col[i]) is False and (list(idx.intersection((float(df_lon_col[i]), float(df_lat_col[i]), \n",
    "                                                                          float(df_lon_col[i]), float(df_lat_col[i])))))\n",
    "            else np.nan for i in range (0, df.shape[0])]\n",
    "\n",
    "df['bbox'] = rtree_index_to_bbox_column(df.Actor1Geo_Long, df.Actor1Geo_Lat)"
   ]
  },
  {
   "cell_type": "code",
   "execution_count": 91,
   "metadata": {},
   "outputs": [],
   "source": [
    "# url and event ID duplicate removal\n",
    "# create new columns for protest, material conflict, rebellion, radicalism\n",
    "# cast Goldstein to float\n",
    "def EoI_columns(df, col_name_dict):\n",
    "    # max eventid for each url \n",
    "    if col_name_dict['url_name'] and col_name_dict['eventID_name'] is not None: \n",
    "        gdelt_max_id = df.groupby(col_name_dict['url_name'])[col_name_dict['eventID_name']].max()\n",
    "        # keep only max ids to remove duplicates\n",
    "        df = df[df[col_name_dict['eventID_name']].isin(gdelt_max_id)]\n",
    "        df = df.reset_index()\n",
    "    if col_name_dict['root_code_name'] is not None: \n",
    "        df['protest'] = np.where(df[col_name_dict['root_code_name']]==14, 1, 0)\n",
    "    if col_name_dict['quad_class_name'] is not None:\n",
    "        df['material_conflict'] = np.where(df[col_name_dict['quad_class_name']]==int(4), 1, 0)   \n",
    "    if col_name_dict['actor_name'] is not None: \n",
    "        df['rebellion'] = np.where(df[col_name_dict['actor_name']].isin(['REB','SEP','INS']), 1, 0)\n",
    "    if col_name_dict['Actor1Code'] and col_name_dict['Actor2Code'] and col_name_dict['Actor3Code'] is not None: \n",
    "        df['radicalism'] = np.where(np.logical_or.reduce((df[col_name_dict['Actor1Code']]=='RAD',\n",
    "                                                          df[col_name_dict['Actor2Code']]=='RAD',\n",
    "                                                          df[col_name_dict['Actor3Code']]=='RAD')),1, 0)\n",
    "    if 'goldstein_name' in col_name_dict:\n",
    "        df['GoldsteinScale'] = df[col_name_dict['goldstein_name']].apply(lambda x : float(x))\n",
    "    return df\n",
    "\n",
    "# GDELT column names\n",
    "col_names = {\n",
    "    'eventID_name' : 'GLOBALEVENTID',\n",
    "    'root_code_name' : 'EventRootCode',\n",
    "    'quad_class_name': 'QuadClass',\n",
    "    'geo_country_name' : 'SourceActorFull',\n",
    "    'geo_region_name' : 'ActionGeo_CountryCode',\n",
    "    'actor_name' : 'Actor1Type1Code',\n",
    "    'url_name' : 'SOURCEURL',\n",
    "    'goldstein_name' : 'GoldsteinScale',\n",
    "    'date_name' : 'SQLDATE',\n",
    "    'Actor1Code': 'Actor1Type1Code',\n",
    "    'Actor2Code': 'Actor1Type2Code',\n",
    "    'Actor3Code': 'Actor1Type3Code'\n",
    "}\n",
    "\n",
    "df.QuadClass = [int(df.QuadClass[i]) for i in range(0, df.shape[0])]\n",
    "df.EventRootCode = [int(df.EventRootCode[i]) for i in range(0, df.shape[0])]\n",
    "\n",
    "df = EoI_columns(df, col_names)\n"
   ]
  },
  {
   "cell_type": "code",
   "execution_count": 94,
   "metadata": {
    "collapsed": true
   },
   "outputs": [],
   "source": [
    "# save raw df\n",
    "def df_to_csv(df, path, filename):\n",
    "    df.to_csv(path + filename)\n",
    "\n",
    "# example input and call\n",
    "path = '/Users/sabine.a.joseph/Desktop/'\n",
    "csv_name = 'GDELT_NaMo_subset_1Mo.csv'\n",
    "df_to_csv(df, path, csv_name) "
   ]
  },
  {
   "cell_type": "code",
   "execution_count": 95,
   "metadata": {},
   "outputs": [],
   "source": [
    "# date column to datetime index\n",
    "df = df.reset_index(drop=True)\n",
    "df.SQLDATE = [str(df.SQLDATE[i])[:-2] for i in range (0, len(df.SQLDATE)) if i is not None]\n",
    "\n",
    "def str_to_datetime(col_name, dateformat):\n",
    "    return [datetime.strptime(str(df[col_name][i]), dateformat) for i in range(0, df.shape[0]) if i is not None]\n",
    "\n",
    "df_datestring_column_name = 'SQLDATE'\n",
    "dateformat = '%Y%m'\n",
    "df[df_datestring_column_name] = str_to_datetime(df_datestring_column_name, dateformat)\n",
    "df.index = df[df_datestring_column_name]"
   ]
  },
  {
   "cell_type": "code",
   "execution_count": 101,
   "metadata": {},
   "outputs": [],
   "source": [
    "# aggregate per country / bbox and month\n",
    "# index needs to be datetime\n",
    "# enter country_col_name as geo-switch: takes country code or bbox\n",
    "def agg_by_geo_by_month(df, agg_dict, country_col_name):\n",
    "    agg_df = df.groupby([df.index, country_col_name]).agg(agg_dict)\n",
    "    agg_df = agg_df.reset_index()\n",
    "    agg_df.columns = agg_df.columns.get_level_values(0)\n",
    "    return agg_df\n",
    "    \n",
    "df['count_num_daily_events'] = 1 \n",
    "\n",
    "# create aggregates\n",
    "aggregations = {\n",
    "    'protest' : {'protest_events': 'sum'},\n",
    "    'material_conflict' : {'material_conflict': 'sum'},\n",
    "    'rebellion' : {'rebellion_events': 'sum'},\n",
    "    'GoldsteinScale' : {\n",
    "    'gs_median': 'median',\n",
    "    'gs_min': lambda x: min(x),\n",
    "    'gs_max': lambda x: max(x)},\n",
    "    'AvgTone' : {\n",
    "    'at_median': 'median',\n",
    "    'at_min': lambda x: min(x),\n",
    "    'at_max': lambda x: max(x)},\n",
    "    'count_num_daily_events' : {'count_num_daily_events': 'sum'},\n",
    "    'NumMentions' : {'NumMentions': 'sum'},\n",
    "    'NumSources' : {'NumSources': 'sum'},\n",
    "    'NumArticles' : {'NumArticles': 'sum'}\n",
    "}\n",
    "\n",
    "# geo-level aggregation switch: country vs grid\n",
    "\n",
    "agg_df = agg_by_geo_by_month(df, aggregations, 'ActionGeo_CountryCode') # or 'bbox' for grid level aggregation\n",
    "agg_df.rename(columns = {list(agg_df)[4]: 'gs_median', \n",
    "                         list(agg_df)[5]: 'gs_min', \n",
    "                         list(agg_df)[6]: 'gs_max',\n",
    "                         list(agg_df)[7]: 'at_median', \n",
    "                         list(agg_df)[8]: 'at_min', \n",
    "                         list(agg_df)[9]: 'at_max',}, inplace = True)\n"
   ]
  },
  {
   "cell_type": "code",
   "execution_count": 102,
   "metadata": {},
   "outputs": [],
   "source": [
    "# save agg df 2x\n",
    "def df_to_csv(df, path, filename):\n",
    "    df.to_csv(path + filename)\n",
    "\n",
    "# example input and call\n",
    "path = '/Users/sabine.a.joseph/Desktop/'\n",
    "#csv_name_country = 'GDELT_1Mo_NaMo_agg_subset_COUNTRY.csv'\n",
    "csv_name_bbox = 'GDELT_1Mo_NaMo_agg_subset_BBOX.csv'\n",
    "\n",
    "#df_to_csv(agg_df, path, csv_name_country) \n",
    "df_to_csv(agg_df, path, csv_name_bbox) "
   ]
  },
  {
   "cell_type": "code",
   "execution_count": null,
   "metadata": {
    "collapsed": true
   },
   "outputs": [],
   "source": [
    "# TO DO:\n",
    "# loop through all GDELT monthly dataset\n",
    "# call most functions above in each iteration\n",
    "\n",
    "# and combine them at the and\n",
    "# maybe agg once more in case of duplicates across datasets\n",
    "\n",
    "\n",
    "####\n",
    "# combine multiple GDELT dfs\n",
    "def data_to_df(down_dir, col_names, country_codes, filter_col):\n",
    "    for i in range(0, len(filenames)):\n",
    "        if i == 0: #create initial df on first loop iteration\n",
    "            df = pd.read_table(down_dir + '/' + filenames[i][:-4], delim_whitespace=False, \n",
    "                               names=col_names)\n",
    "        else: #concatenate df on each iteration\n",
    "            df = pd.concat([df, pd.read_table(down_dir + '/' + filenames[i][:-4], delim_whitespace=False, \n",
    "                               names = col_names)]) \n",
    "            df = df[df[filter_col].isin(country_codes)] \n",
    "\n",
    "    df = df[df[filter_col].isin(country_codes)]  \n",
    "    df = df.reset_index(drop = True)\n",
    "    return df"
   ]
  },
  {
   "cell_type": "code",
   "execution_count": null,
   "metadata": {
    "collapsed": true
   },
   "outputs": [],
   "source": []
  }
 ],
 "metadata": {
  "kernelspec": {
   "display_name": "Python 2",
   "language": "python",
   "name": "python2"
  },
  "language_info": {
   "codemirror_mode": {
    "name": "ipython",
    "version": 2
   },
   "file_extension": ".py",
   "mimetype": "text/x-python",
   "name": "python",
   "nbconvert_exporter": "python",
   "pygments_lexer": "ipython2",
   "version": "2.7.13"
  }
 },
 "nbformat": 4,
 "nbformat_minor": 2
}
