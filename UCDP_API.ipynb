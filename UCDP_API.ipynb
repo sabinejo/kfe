{
 "cells": [
  {
   "cell_type": "code",
   "execution_count": 281,
   "metadata": {
    "collapsed": true
   },
   "outputs": [],
   "source": [
    "import requests, json\n",
    "import pandas as pd\n",
    "import numpy as np\n",
    "import time"
   ]
  },
  {
   "cell_type": "code",
   "execution_count": 207,
   "metadata": {
    "collapsed": false
   },
   "outputs": [],
   "source": [
    "# read excel with country names and codes\n",
    "# return list with country codes relevant for UCDP\n",
    "country_code_pathfile = '/Users/sabine.a.joseph/Documents/Country_Feature_documentation/Country_codes_NAMO.xlsx'\n",
    "country_code_column_name = 'UCDP_country_codes'\n",
    "sheet = 'Sheet1'\n",
    "\n",
    "def country_codes_from_excel(country_codes, sheet_num, column_name):\n",
    "    countries = pd.ExcelFile(country_codes)\n",
    "    countries = countries.parse(sheet_num)\n",
    "    return list(countries[column_name]) # UCDP uses Gleditsch and Ward country codes\n",
    "\n",
    "CCs = country_codes_from_excel(country_code_pathfile, sheet, country_code_column_name)"
   ]
  },
  {
   "cell_type": "code",
   "execution_count": 409,
   "metadata": {
    "collapsed": false
   },
   "outputs": [],
   "source": [
    "### API call and data extraction # no longer in use\n",
    "# prepare country filter\n",
    "#CCs to comma seperated string\n",
    "\n",
    "all_CCs = ''\n",
    "for i in range(0, len(CCs)):\n",
    "    if CCs[i].is_integer():\n",
    "        all_CCs = all_CCs+','.join((str(int(CCs[i])), ''))\n",
    "all_CCs = all_CCs[:-1]\n",
    "\n",
    "years = list(np.linspace(1989, 2018, num=30))\n",
    "months = list(np.linspace(1, 10, num=4)) \n",
    "\n",
    "#for i in range(0, len(years)-1):\n",
    "for i in range(0, 1):\n",
    "    start = time.time()\n",
    "    start_str_y = str(int(years[i]))\n",
    "    end_str_y = str(int(years[i]))\n",
    "    \n",
    "    for j in range(0, len(months)-1):\n",
    "        if months[j] < 9:\n",
    "            start_str_m = '0' + str(int(months[j]))\n",
    "            end_str_m = '0' + str(int(months[j+1])) #elif\n",
    "        else:    \n",
    "            start_str_m = str(int(months[j]))\n",
    "            end_str_m = str(int(months[j+1]))\n",
    "        \n",
    "        r = requests.get(web_service_url + page + '&Country=' + all_CCs \n",
    "                         + '&StartDate=' + start_str_y + '-' + start_str_m \n",
    "                         + '-01&EndDate=' + end_str_y + '-' + end_str_m + '-01') #date filter: YYYY-MM-DD\n",
    "        \n",
    "        end = time.time()\n",
    "        print 'time elapsed'\n",
    "        print(end - start)\n",
    "        print web_service_url + page + '&Country=' + all_CCs + '&StartDate=' + start_str_y + '-' + start_str_m + '-01&EndDate=' + end_str_y + '-' + end_str_m + '-01'\n",
    "        \n",
    "        results = r.json()\n",
    "\n",
    "        if i == 0:\n",
    "            df = pd.DataFrame.from_dict(results['Result']) #create df on first loop iteration\n",
    "        else:\n",
    "            df = pd.concat([df, pd.DataFrame.from_dict(results['Result'])]) #concatenate df on each iteration\n",
    "        \n",
    "    df = pd.DataFrame.from_dict(results['Result'])\n"
   ]
  },
  {
   "cell_type": "code",
   "execution_count": 401,
   "metadata": {
    "collapsed": false
   },
   "outputs": [],
   "source": [
    "for i in range(0, len(df.columns)):\n",
    "    #print df.columns[i]\n",
    "    x = float(sum(df[df.columns[i]].value_counts()))/float(len(df.id))\n",
    "    #print x"
   ]
  }
 ],
 "metadata": {
  "kernelspec": {
   "display_name": "Python 2",
   "language": "python",
   "name": "python2"
  },
  "language_info": {
   "codemirror_mode": {
    "name": "ipython",
    "version": 2
   },
   "file_extension": ".py",
   "mimetype": "text/x-python",
   "name": "python",
   "nbconvert_exporter": "python",
   "pygments_lexer": "ipython2",
   "version": "2.7.13"
  }
 },
 "nbformat": 4,
 "nbformat_minor": 2
}
