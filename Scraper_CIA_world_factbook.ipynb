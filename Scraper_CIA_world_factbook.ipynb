{
 "cells": [
  {
   "cell_type": "code",
   "execution_count": 14,
   "metadata": {
    "collapsed": true
   },
   "outputs": [],
   "source": [
    "import requests\n",
    "from bs4 import BeautifulSoup\n",
    "import pandas as pd\n",
    "import collections"
   ]
  },
  {
   "cell_type": "code",
   "execution_count": 31,
   "metadata": {
    "collapsed": false
   },
   "outputs": [],
   "source": [
    "# scraping CIA world fact book\n",
    "NaMo_countries = ['Kuwait', 'Bahrain', 'Oman', 'Qatar', 'Saudi Arabia', 'United Arab Emirates', 'Yemen',\n",
    "                  'Israel', 'Jordan', 'Lebanon', 'Syria', 'Egypt', 'Iran', 'Turkey',\n",
    "                  'Iraq']\n",
    "\n",
    "url='https://www.cia.gov/Library/publications/the-world-factbook/fields/'\n",
    "\n",
    "fields = ['2010', '2047', '2085']\n",
    "# 2010: AGE STRUCTURE\n",
    "# 2047: HOUSEHOLD INCOME OR CONSUMPTION BY PERCENTAGE SHARE\n",
    "# 2085: ROADWAYS\n",
    "\n",
    "d = collections.defaultdict(list)\n",
    "\n",
    "for i in range(0, len(fields)):\n",
    "    r=requests.get(url + fields[i] + '.html')\n",
    "    soup=BeautifulSoup(r.content,'lxml')\n",
    "\n",
    "    data = [] # all data as list of lists \n",
    "    table=soup.find('table', id='fieldListing')\n",
    "    with open('a.txt', 'w') as f:\n",
    "        for tr in table('tr', id=True):\n",
    "            l = list(tr.stripped_strings) #i.e. 2047 #['Kuwait', 'lowest 10%:', '3.8%', 'highest 10%:', '24% (2008)']\n",
    "            country = l[0]\n",
    "            #print country\n",
    "            highest = l[-1].split()[0]\n",
    "            if l[0] in NaMo_countries:\n",
    "                data.append(l)\n",
    "            f.write(country + ' ' + highest + '\\n')\n",
    "    d['field' + fields[i]].append(data)\n",
    "\n",
    "#data to df"
   ]
  },
  {
   "cell_type": "code",
   "execution_count": 73,
   "metadata": {
    "collapsed": false
   },
   "outputs": [
    {
     "name": "stdout",
     "output_type": "stream",
     "text": [
      "Saudi Arabia\n",
      "total:\n",
      "221,372 km\n",
      "paved:\n",
      "47,529 km (includes 3,891 km of expressways)\n"
     ]
    }
   ],
   "source": [
    "for i in range(0,5):\n",
    "    print d['field2085'][0][10][i]"
   ]
  },
  {
   "cell_type": "code",
   "execution_count": 54,
   "metadata": {
    "collapsed": true
   },
   "outputs": [],
   "source": [
    "df = pd.DataFrame({'Country' : d['field2010'][0][0], \n",
    "                   d['field2010'][0][0][1] : d['field2010'][0][0][2],\n",
    "                   d['field2010'][0][0][3]: d['field2010'][0][0][4],\n",
    "                   d['field2010'][0][0][5]: d['field2010'][0][0][5]})"
   ]
  },
  {
   "cell_type": "code",
   "execution_count": 55,
   "metadata": {
    "collapsed": false
   },
   "outputs": [
    {
     "data": {
      "text/html": [
       "<div>\n",
       "<table border=\"1\" class=\"dataframe\">\n",
       "  <thead>\n",
       "    <tr style=\"text-align: right;\">\n",
       "      <th></th>\n",
       "      <th>0-14 years:</th>\n",
       "      <th>15-24 years:</th>\n",
       "      <th>25-54 years:</th>\n",
       "      <th>Country</th>\n",
       "    </tr>\n",
       "  </thead>\n",
       "  <tbody>\n",
       "    <tr>\n",
       "      <th>0</th>\n",
       "      <td>19.27% (male 134,899/female 130,792)</td>\n",
       "      <td>15.76% (male 122,683/female 94,627)</td>\n",
       "      <td>25-54 years:</td>\n",
       "      <td>Bahrain</td>\n",
       "    </tr>\n",
       "    <tr>\n",
       "      <th>1</th>\n",
       "      <td>19.27% (male 134,899/female 130,792)</td>\n",
       "      <td>15.76% (male 122,683/female 94,627)</td>\n",
       "      <td>25-54 years:</td>\n",
       "      <td>0-14 years:</td>\n",
       "    </tr>\n",
       "    <tr>\n",
       "      <th>2</th>\n",
       "      <td>19.27% (male 134,899/female 130,792)</td>\n",
       "      <td>15.76% (male 122,683/female 94,627)</td>\n",
       "      <td>25-54 years:</td>\n",
       "      <td>19.27% (male 134,899/female 130,792)</td>\n",
       "    </tr>\n",
       "    <tr>\n",
       "      <th>3</th>\n",
       "      <td>19.27% (male 134,899/female 130,792)</td>\n",
       "      <td>15.76% (male 122,683/female 94,627)</td>\n",
       "      <td>25-54 years:</td>\n",
       "      <td>15-24 years:</td>\n",
       "    </tr>\n",
       "    <tr>\n",
       "      <th>4</th>\n",
       "      <td>19.27% (male 134,899/female 130,792)</td>\n",
       "      <td>15.76% (male 122,683/female 94,627)</td>\n",
       "      <td>25-54 years:</td>\n",
       "      <td>15.76% (male 122,683/female 94,627)</td>\n",
       "    </tr>\n",
       "    <tr>\n",
       "      <th>5</th>\n",
       "      <td>19.27% (male 134,899/female 130,792)</td>\n",
       "      <td>15.76% (male 122,683/female 94,627)</td>\n",
       "      <td>25-54 years:</td>\n",
       "      <td>25-54 years:</td>\n",
       "    </tr>\n",
       "    <tr>\n",
       "      <th>6</th>\n",
       "      <td>19.27% (male 134,899/female 130,792)</td>\n",
       "      <td>15.76% (male 122,683/female 94,627)</td>\n",
       "      <td>25-54 years:</td>\n",
       "      <td>56.07% (male 505,181/female 268,034)</td>\n",
       "    </tr>\n",
       "    <tr>\n",
       "      <th>7</th>\n",
       "      <td>19.27% (male 134,899/female 130,792)</td>\n",
       "      <td>15.76% (male 122,683/female 94,627)</td>\n",
       "      <td>25-54 years:</td>\n",
       "      <td>55-64 years:</td>\n",
       "    </tr>\n",
       "    <tr>\n",
       "      <th>8</th>\n",
       "      <td>19.27% (male 134,899/female 130,792)</td>\n",
       "      <td>15.76% (male 122,683/female 94,627)</td>\n",
       "      <td>25-54 years:</td>\n",
       "      <td>6.05% (male 53,693/female 29,717)</td>\n",
       "    </tr>\n",
       "    <tr>\n",
       "      <th>9</th>\n",
       "      <td>19.27% (male 134,899/female 130,792)</td>\n",
       "      <td>15.76% (male 122,683/female 94,627)</td>\n",
       "      <td>25-54 years:</td>\n",
       "      <td>65 years and over:</td>\n",
       "    </tr>\n",
       "    <tr>\n",
       "      <th>10</th>\n",
       "      <td>19.27% (male 134,899/female 130,792)</td>\n",
       "      <td>15.76% (male 122,683/female 94,627)</td>\n",
       "      <td>25-54 years:</td>\n",
       "      <td>2.85% (male 19,253/female 20,025) (2016 est.)</td>\n",
       "    </tr>\n",
       "  </tbody>\n",
       "</table>\n",
       "</div>"
      ],
      "text/plain": [
       "                             0-14 years:                         15-24 years:  \\\n",
       "0   19.27% (male 134,899/female 130,792)  15.76% (male 122,683/female 94,627)   \n",
       "1   19.27% (male 134,899/female 130,792)  15.76% (male 122,683/female 94,627)   \n",
       "2   19.27% (male 134,899/female 130,792)  15.76% (male 122,683/female 94,627)   \n",
       "3   19.27% (male 134,899/female 130,792)  15.76% (male 122,683/female 94,627)   \n",
       "4   19.27% (male 134,899/female 130,792)  15.76% (male 122,683/female 94,627)   \n",
       "5   19.27% (male 134,899/female 130,792)  15.76% (male 122,683/female 94,627)   \n",
       "6   19.27% (male 134,899/female 130,792)  15.76% (male 122,683/female 94,627)   \n",
       "7   19.27% (male 134,899/female 130,792)  15.76% (male 122,683/female 94,627)   \n",
       "8   19.27% (male 134,899/female 130,792)  15.76% (male 122,683/female 94,627)   \n",
       "9   19.27% (male 134,899/female 130,792)  15.76% (male 122,683/female 94,627)   \n",
       "10  19.27% (male 134,899/female 130,792)  15.76% (male 122,683/female 94,627)   \n",
       "\n",
       "    25-54 years:                                        Country  \n",
       "0   25-54 years:                                        Bahrain  \n",
       "1   25-54 years:                                    0-14 years:  \n",
       "2   25-54 years:           19.27% (male 134,899/female 130,792)  \n",
       "3   25-54 years:                                   15-24 years:  \n",
       "4   25-54 years:            15.76% (male 122,683/female 94,627)  \n",
       "5   25-54 years:                                   25-54 years:  \n",
       "6   25-54 years:           56.07% (male 505,181/female 268,034)  \n",
       "7   25-54 years:                                   55-64 years:  \n",
       "8   25-54 years:              6.05% (male 53,693/female 29,717)  \n",
       "9   25-54 years:                             65 years and over:  \n",
       "10  25-54 years:  2.85% (male 19,253/female 20,025) (2016 est.)  "
      ]
     },
     "execution_count": 55,
     "metadata": {},
     "output_type": "execute_result"
    }
   ],
   "source": [
    "df"
   ]
  },
  {
   "cell_type": "code",
   "execution_count": null,
   "metadata": {
    "collapsed": true
   },
   "outputs": [],
   "source": []
  }
 ],
 "metadata": {
  "kernelspec": {
   "display_name": "Python 2",
   "language": "python",
   "name": "python2"
  },
  "language_info": {
   "codemirror_mode": {
    "name": "ipython",
    "version": 2
   },
   "file_extension": ".py",
   "mimetype": "text/x-python",
   "name": "python",
   "nbconvert_exporter": "python",
   "pygments_lexer": "ipython2",
   "version": "2.7.11"
  }
 },
 "nbformat": 4,
 "nbformat_minor": 0
}
