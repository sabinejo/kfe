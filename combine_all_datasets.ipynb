{
 "cells": [
  {
   "cell_type": "code",
   "execution_count": 1,
   "metadata": {
    "collapsed": true
   },
   "outputs": [],
   "source": [
    "import pandas as pd\n",
    "import numpy as np\n",
    "from datetime import datetime\n",
    "import datetime as dt"
   ]
  },
  {
   "cell_type": "code",
   "execution_count": 52,
   "metadata": {
    "collapsed": false
   },
   "outputs": [],
   "source": [
    "#load all aggregated csvs: UCDP, GDELT, Phoenix\n",
    "path = '/Users/sabinejoseph/Downloads/kfe-sabinejo-patch-1/'\n",
    "\n",
    "def csv_to_df(path, filename):\n",
    "    df = pd.read_csv(path + filename, sep = ',', low_memory=False)\n",
    "    df = df.reset_index(drop=True)\n",
    "    return df\n",
    "\n",
    "df_UCDP = csv_to_df(path, 'Agg_UCDP_daily.csv')\n",
    "df_Phoe = csv_to_df(path, 'Phoenix_NaMo_Agg_subset.csv')\n",
    "del df_Phoe['Unnamed: 0']\n",
    "#df_GDELT = csv_to_df(path, 'GDELT_NaMo_subset.csv')"
   ]
  },
  {
   "cell_type": "code",
   "execution_count": 5,
   "metadata": {
    "collapsed": true
   },
   "outputs": [],
   "source": [
    "# read excel with country names and codes\n",
    "# return list with country codes relevant for UCDP\n",
    "country_code_pathfile = '/Users/sabinejoseph/Downloads/kfe-sabinejo-patch-1/Input/Country_codes_NAMO.xlsx'\n",
    "country_code_column_name = 'UCDP_country_codes'\n",
    "sheet = 'Sheet1'\n",
    "\n",
    "def country_codes_from_excel(country_codes, sheet_num, column_name):\n",
    "    countries = pd.ExcelFile(country_codes)\n",
    "    countries = countries.parse(sheet_num)\n",
    "    return list(countries[column_name]) # UCDP uses Gleditsch and Ward country codes\n",
    "\n",
    "CCS = country_codes_from_excel(country_code_pathfile, sheet, country_code_column_name)\n",
    "CC3 = country_codes_from_excel(country_code_pathfile, sheet, 'Country_3')\n",
    "CC2 = country_codes_from_excel(country_code_pathfile, sheet, 'Country_2')"
   ]
  },
  {
   "cell_type": "code",
   "execution_count": 63,
   "metadata": {
    "collapsed": false
   },
   "outputs": [],
   "source": [
    "# create empty df\n",
    "new_format = '%Y-%m-%d'\n",
    "#old_format = '%Y-%m-%d %H:%M:%S'\n",
    "start_date = '2014-01-01 00:00:00'\n",
    "end_date = '2017-08-01 00:00:00'\n",
    "CC_col_names = ['CC3', 'CCS', 'CC2']\n",
    "CC_lists = [CC3, CCS, CC2]\n",
    "\n",
    "def create_empty_df(date_format, start_date, end_date, CC_col_names, CC_lists):\n",
    "    all_days = pd.date_range(start_date, end_date, freq='D')\n",
    "\n",
    "    df = pd.DataFrame(index=pd.date_range(start = start_date, end = end_date, freq='90Min'))\n",
    "    df.index = [df.index[i].strftime(new_format) for i in range(0, len(df.index)) if i is not None]\n",
    "    df = df[:-1]\n",
    "    \n",
    "    for i in range(0, len(CC_col_names)):\n",
    "        temp = CC_lists[i] * (len(df.index)/len(CC3))\n",
    "        df[CC_col_names[i]] = temp\n",
    "        df.is_copy = False\n",
    "        \n",
    "    return df\n",
    "\n",
    "df = create_empty_df(new_format, start_date, end_date, CC_col_names, CC_lists)\n",
    "df = df.reset_index()\n",
    "df = df.rename(columns={'index': 'date_start'})"
   ]
  },
  {
   "cell_type": "code",
   "execution_count": 138,
   "metadata": {
    "collapsed": false
   },
   "outputs": [],
   "source": [
    "# create empty columns to extend combined df based on columns\n",
    "cols_to_append_UCDP = ['count_num_daily_events', 'deaths_civilians', 'deaths_unknown', 'best_est', 'high_est',\n",
    "                  'low_est', 'deaths_a', 'deaths_b'] # list(df_UCDP.columns)\n",
    "cols_to_append_Phoe = ['GoldsteinScore', 'count_num_daily_events_Phoe'] # list(df_Phoe.columns)\n",
    "cols_to_append_GDELT = [] # to fill\n",
    "\n",
    "cols_to_append_UCDP.extend(cols_to_append_Phoe)\n",
    "cols_to_append_UCDP.extend(cols_to_append_GDELT)\n",
    "cols_to_append = cols_to_append_UCDP\n",
    "\n",
    "def append_empty_cols_to_df(df, col_names):\n",
    "    for i in col_names:\n",
    "        df[i] = np.nan\n",
    "    return df\n",
    "        \n",
    "df = append_empty_cols_to_df(df, cols_to_append_UCDP)"
   ]
  },
  {
   "cell_type": "code",
   "execution_count": 247,
   "metadata": {
    "collapsed": false
   },
   "outputs": [],
   "source": [
    "# very slow, still performs ok for limited time frame?\n",
    "\n",
    "def combine_empty_and_filled_df(df, df_agg, CC3, CCS, cols_to_append, CC_name1, CC_name2):\n",
    "    for i in range(0, len(df)):\n",
    "    #for i in range(0, 2000):\n",
    "        if CC_name2 == 'CCS' and df.CC3[i] != 'PSE':\n",
    "            df_temp = df_agg[(df_agg.date_start == df.date_start[i]) & (df_agg[CC_name1] == int(df[CC_name2][i]))]\n",
    "        else:\n",
    "            df_temp = df_agg[(df_agg.date_start == df.date_start[i]) & (df_agg[CC_name1] == df[CC_name2][i])]\n",
    "                \n",
    "                # further condition for GDELT?\n",
    "                \n",
    "        if df_temp.empty is False:\n",
    "            for k in cols_to_append:\n",
    "                df[k][i] = df_temp[k]\n",
    "                df.is_copy = False\n",
    "                #df.loc[i, k] = df_temp[k] #--> bug\n",
    "    return df\n",
    "                    "
   ]
  },
  {
   "cell_type": "code",
   "execution_count": 248,
   "metadata": {
    "collapsed": false
   },
   "outputs": [
    {
     "name": "stderr",
     "output_type": "stream",
     "text": [
      "/anaconda/lib/python2.7/site-packages/ipykernel/__main__.py:15: SettingWithCopyWarning: \n",
      "A value is trying to be set on a copy of a slice from a DataFrame\n",
      "\n",
      "See the caveats in the documentation: http://pandas.pydata.org/pandas-docs/stable/indexing.html#indexing-view-versus-copy\n"
     ]
    }
   ],
   "source": [
    "# combine empty DF & UCDP\n",
    "cols_to_append_UCDP = ['count_num_daily_events', 'deaths_civilians', 'deaths_unknown', 'best_est', 'high_est',\n",
    "                  'low_est', 'deaths_a', 'deaths_b']\n",
    "country_filter_col_name = 'gwno'\n",
    "country_filter_excel = 'CCS'\n",
    "combined_df = combine_empty_and_filled_df(df, \n",
    "                                          df_UCDP, \n",
    "                                          CC3, \n",
    "                                          CCS, \n",
    "                                          cols_to_append_UCDP, \n",
    "                                          country_filter_col_name, \n",
    "                                          country_filter_excel)\n"
   ]
  },
  {
   "cell_type": "code",
   "execution_count": 249,
   "metadata": {
    "collapsed": false
   },
   "outputs": [
    {
     "name": "stderr",
     "output_type": "stream",
     "text": [
      "/anaconda/lib/python2.7/site-packages/ipykernel/__main__.py:15: SettingWithCopyWarning: \n",
      "A value is trying to be set on a copy of a slice from a DataFrame\n",
      "\n",
      "See the caveats in the documentation: http://pandas.pydata.org/pandas-docs/stable/indexing.html#indexing-view-versus-copy\n"
     ]
    }
   ],
   "source": [
    "# add Phoenix df to combined df\n",
    "cols_to_append_Phoe = ['GoldsteinScore', 'count_num_daily_events_Phoe']\n",
    "df_Phoe = df_Phoe.rename(columns={'Date': 'date_start', 'count_num_daily_events': 'count_num_daily_events_Phoe'})\n",
    "country_filter_col_name = 'SourceActorFull'\n",
    "country_filter_excel = 'CC3'\n",
    "combined_df = combine_empty_and_filled_df(combined_df,\n",
    "                                          df_Phoe,\n",
    "                                          CC3, \n",
    "                                          CCS, \n",
    "                                          cols_to_append_Phoe, \n",
    "                                          country_filter_col_name, \n",
    "                                          country_filter_excel)\n",
    "\n",
    "# add GDELT df to combined df\n",
    "# cols_to_append_Phoe = ['', '']\n",
    "#country_filter_col_name = ''\n",
    "#country_filter_excel = 'CC2'\n",
    "#combined_df = combine_empty_and_filled_df(combined_df, df_LT, CC3, CCS, cols_to_append_GDELT, country_filter_col_name, country_filter_excel)"
   ]
  },
  {
   "cell_type": "code",
   "execution_count": 232,
   "metadata": {
    "collapsed": false
   },
   "outputs": [
    {
     "data": {
      "text/plain": [
       "[Pandas(date_start='2017-01-05', SourceActorFull='SYR', GoldsteinScore=58.0, count_num_daily_events_Phoe=16)]"
      ]
     },
     "execution_count": 232,
     "metadata": {},
     "output_type": "execute_result"
    }
   ],
   "source": [
    "# little checks\n",
    "\n",
    "result = df_Phoe[(df_Phoe.date_start == '2017-01-05') & (df_Phoe['SourceActorFull'] == 'SYR')]\n",
    "list(result.itertuples(index=False))\n",
    "\n",
    "print df_Phoe.GoldsteinScore.count()\n",
    "print combined_df.GoldsteinScore.count()  \n",
    "\n",
    "# subset df based on date\n",
    "test = df_Phoe[(df_Phoe['date_start'] >= '2014-01-01') & (df_Phoe['SourceActorFull'] == 'PSE')]\n",
    "test.GoldsteinScore.count()"
   ]
  },
  {
   "cell_type": "code",
   "execution_count": 251,
   "metadata": {
    "collapsed": true
   },
   "outputs": [],
   "source": [
    "# save combined df to csv\n",
    "combined_df.to_csv(path +'combined_df.csv')"
   ]
  },
  {
   "cell_type": "code",
   "execution_count": null,
   "metadata": {
    "collapsed": true
   },
   "outputs": [],
   "source": []
  }
 ],
 "metadata": {
  "kernelspec": {
   "display_name": "Python 2",
   "language": "python",
   "name": "python2"
  },
  "language_info": {
   "codemirror_mode": {
    "name": "ipython",
    "version": 2
   },
   "file_extension": ".py",
   "mimetype": "text/x-python",
   "name": "python",
   "nbconvert_exporter": "python",
   "pygments_lexer": "ipython2",
   "version": "2.7.11"
  }
 },
 "nbformat": 4,
 "nbformat_minor": 0
}
