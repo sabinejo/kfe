{
 "cells": [
  {
   "cell_type": "code",
   "execution_count": 110,
   "metadata": {
    "collapsed": true
   },
   "outputs": [],
   "source": [
    "import pandas as pd\n",
    "import numpy as np\n",
    "from datetime import datetime\n",
    "import datetime as dt"
   ]
  },
  {
   "cell_type": "code",
   "execution_count": 299,
   "metadata": {
    "collapsed": false
   },
   "outputs": [],
   "source": [
    "# read excel with country names and codes\n",
    "# return list with country codes relevant for UCDP\n",
    "country_code_pathfile = '/Users/sabinejoseph/Downloads/kfe-sabinejo-patch-1/Input/Country_codes_NAMO.xlsx'\n",
    "country_code_column_name = 'UCDP_country_codes'\n",
    "sheet = 'Sheet1'\n",
    "\n",
    "def country_codes_from_excel(country_codes, sheet_num, column_name):\n",
    "    countries = pd.ExcelFile(country_codes)\n",
    "    countries = countries.parse(sheet_num)\n",
    "    return list(countries[column_name]) # UCDP uses Gleditsch and Ward country codes\n",
    "\n",
    "CCS = country_codes_from_excel(country_code_pathfile, sheet, country_code_column_name)\n",
    "CC3 = country_codes_from_excel(country_code_pathfile, sheet, 'Country_3')"
   ]
  },
  {
   "cell_type": "code",
   "execution_count": 300,
   "metadata": {
    "collapsed": false
   },
   "outputs": [],
   "source": [
    "UCDP_filename = '/Users/sabinejoseph/Downloads/kfe-sabinejo-patch-1/ged50-csv/ged50.csv'\n",
    "country_code_column_name = 'gwno'\n",
    "\n",
    "def csv_to_df(filename, country_codes, csv_country_code_column):\n",
    "    df = pd.read_csv(filename , sep=',')\n",
    "    return df[df[csv_country_code_column].isin(country_codes)]\n",
    "\n",
    "df = csv_to_df(UCDP_filename, CCS, country_code_column_name)"
   ]
  },
  {
   "cell_type": "code",
   "execution_count": 301,
   "metadata": {
    "collapsed": false
   },
   "outputs": [],
   "source": [
    "# delete not to be used columns\n",
    "# 'id' # only keep for data cleaning \n",
    "vars_to_del = ['relid', 'year', 'active_year', 'conflict_dset_id', 'conflict_name', 'dyad_dset_id',\n",
    "               'dyad_new_id', 'dyad_name', 'side_a_dset_id', 'side_a_new_id', 'side_a', 'side_b_dset_id',\n",
    "               'side_b_new_id', 'side_b', 'source_date', 'source_headline', 'source_office', 'source_original',\n",
    "               'where_prec', 'where_coordinates', 'where_description', 'adm_1', 'adm_2', 'latitude', 'longitude',\n",
    "               'geom_wkt', 'priogrid_gid', 'country', 'region', 'isocc', 'gwab']\n",
    "\n",
    "def del_columns_from_df(col_names):\n",
    "    for i in col_names:\n",
    "        del df[i]\n",
    "    return df\n",
    "\n",
    "df = del_columns_from_df(vars_to_del)"
   ]
  },
  {
   "cell_type": "code",
   "execution_count": 302,
   "metadata": {
    "collapsed": false
   },
   "outputs": [],
   "source": [
    "# str index to datetime\n",
    "df = df.reset_index(drop=True)\n",
    "\n",
    "df_datestring_column_name = 'date_start'\n",
    "dateformat = '%Y-%m-%d'\n",
    "\n",
    "def str_to_datetime(col_name, dateformat):\n",
    "    return [datetime.strptime(str(df[col_name][i]), dateformat) \n",
    "            for i in range(0, len(df[col_name])) if i is not None]\n",
    "\n",
    "df[df_datestring_column_name] = str_to_datetime(df_datestring_column_name, dateformat)\n"
   ]
  },
  {
   "cell_type": "code",
   "execution_count": null,
   "metadata": {
    "collapsed": true
   },
   "outputs": [],
   "source": [
    "# filter by type of crisis --- check with Oliver\n",
    "# type_of_violence # 1: state-based conflict # 2: non-state conflict # 3: one-sided violence\n",
    "# df = df[df['type_of_violence'].isin([1, 3])]\n",
    "\n",
    "\n",
    "# df = df[df.date_prec > 1] \n",
    "\n",
    "# ? conflict_new_id #as filter? -- existing conflict -- ask Oliver\n",
    "#df.loc[(df['conflict_new_id'] == 426) & df['type_of_violence'].isin([1, 3]))]\n",
    "#df.loc[(df[' '].isin([426, 234]) & df['type_of_violence'].isin([1, 3]))]\n",
    "\n",
    "# filter by event_clarity?\n",
    "\n",
    "### to use:\n",
    "# date var: \n",
    "# combination of: date_start, date_end\n",
    "# date_prec #duration of event, only chose date_prec = 1 (verify with Oliver?)\n",
    "# df = df.loc[(df['date_prec'] == 1)]\n",
    "\n",
    "# -> date_start = date_end - chose as event date\n",
    "# or always chose date_start as date\n",
    "# del df.date_end\n",
    "\n",
    "# number_of_sources #importance - only valid for yr 2013 and 2014\n",
    "# del df.event_clarity\n"
   ]
  },
  {
   "cell_type": "code",
   "execution_count": 304,
   "metadata": {
    "collapsed": false
   },
   "outputs": [
    {
     "data": {
      "text/html": [
       "<div>\n",
       "<table border=\"1\" class=\"dataframe\">\n",
       "  <thead>\n",
       "    <tr style=\"text-align: right;\">\n",
       "      <th></th>\n",
       "      <th>date_start</th>\n",
       "      <th>gwno</th>\n",
       "      <th>count_num_daily_events</th>\n",
       "      <th>deaths_civilians</th>\n",
       "      <th>deaths_unknown</th>\n",
       "      <th>best_est</th>\n",
       "      <th>high_est</th>\n",
       "      <th>low_est</th>\n",
       "      <th>deaths_a</th>\n",
       "      <th>deaths_b</th>\n",
       "    </tr>\n",
       "  </thead>\n",
       "  <tbody>\n",
       "    <tr>\n",
       "      <th>0</th>\n",
       "      <td>1989-01-01</td>\n",
       "      <td>640</td>\n",
       "      <td>1</td>\n",
       "      <td>0</td>\n",
       "      <td>0</td>\n",
       "      <td>16</td>\n",
       "      <td>16</td>\n",
       "      <td>16</td>\n",
       "      <td>16</td>\n",
       "      <td>0</td>\n",
       "    </tr>\n",
       "    <tr>\n",
       "      <th>1</th>\n",
       "      <td>1989-01-01</td>\n",
       "      <td>645</td>\n",
       "      <td>2</td>\n",
       "      <td>0</td>\n",
       "      <td>50</td>\n",
       "      <td>50</td>\n",
       "      <td>50</td>\n",
       "      <td>50</td>\n",
       "      <td>0</td>\n",
       "      <td>0</td>\n",
       "    </tr>\n",
       "    <tr>\n",
       "      <th>2</th>\n",
       "      <td>1989-01-01</td>\n",
       "      <td>660</td>\n",
       "      <td>8</td>\n",
       "      <td>5</td>\n",
       "      <td>32</td>\n",
       "      <td>40</td>\n",
       "      <td>217</td>\n",
       "      <td>40</td>\n",
       "      <td>2</td>\n",
       "      <td>1</td>\n",
       "    </tr>\n",
       "    <tr>\n",
       "      <th>3</th>\n",
       "      <td>1989-01-02</td>\n",
       "      <td>660</td>\n",
       "      <td>2</td>\n",
       "      <td>0</td>\n",
       "      <td>9</td>\n",
       "      <td>9</td>\n",
       "      <td>9</td>\n",
       "      <td>9</td>\n",
       "      <td>0</td>\n",
       "      <td>0</td>\n",
       "    </tr>\n",
       "    <tr>\n",
       "      <th>4</th>\n",
       "      <td>1989-01-08</td>\n",
       "      <td>660</td>\n",
       "      <td>6</td>\n",
       "      <td>0</td>\n",
       "      <td>27</td>\n",
       "      <td>28</td>\n",
       "      <td>28</td>\n",
       "      <td>28</td>\n",
       "      <td>1</td>\n",
       "      <td>0</td>\n",
       "    </tr>\n",
       "  </tbody>\n",
       "</table>\n",
       "</div>"
      ],
      "text/plain": [
       "   date_start  gwno  count_num_daily_events  deaths_civilians  deaths_unknown  \\\n",
       "0  1989-01-01   640                       1                 0               0   \n",
       "1  1989-01-01   645                       2                 0              50   \n",
       "2  1989-01-01   660                       8                 5              32   \n",
       "3  1989-01-02   660                       2                 0               9   \n",
       "4  1989-01-08   660                       6                 0              27   \n",
       "\n",
       "   best_est  high_est  low_est  deaths_a  deaths_b  \n",
       "0        16        16       16        16         0  \n",
       "1        50        50       50         0         0  \n",
       "2        40       217       40         2         1  \n",
       "3         9         9        9         0         0  \n",
       "4        28        28       28         1         0  "
      ]
     },
     "execution_count": 304,
     "metadata": {},
     "output_type": "execute_result"
    }
   ],
   "source": [
    "# grouping by date per country code\n",
    "new_format = '%Y-%m-%d'\n",
    "col_name_date = 'date_start'\n",
    "col_name_country_codes = 'gwno'\n",
    "agg_col_names = ['deaths_a', 'deaths_b', 'deaths_civilians', 'deaths_unknown', 'best_est', 'high_est', 'low_est']\n",
    "event_count_col_name = 'count_num_daily_events'\n",
    "\n",
    "def group_by_country_code_date_agg_sum(date, CC, col_name_list, ct_col_name):\n",
    "# sum of death counts\n",
    "# count of events per day per country code\n",
    "    df[ct_col_name] = 1 \n",
    "    col_name_list.append(ct_col_name)\n",
    "    return df.groupby([date, CC]).agg(dict.fromkeys(col_name_list, sum))\n",
    "    \n",
    "df_agg = group_by_country_code_date_agg_sum(col_name_date, col_name_country_codes, agg_col_names, event_count_col_name).reset_index()\n",
    "df_agg.date_start = [df_agg.date_start[i].strftime(new_format) for i in range(0, len(df_agg.index)) if i is not None]\n",
    "df_agg[:5]\n",
    "\n",
    "#df_agg.to_csv('Agg_UCDP_daily.csv')"
   ]
  },
  {
   "cell_type": "code",
   "execution_count": 280,
   "metadata": {
    "collapsed": false
   },
   "outputs": [],
   "source": [
    "#### new notebook from here \n",
    "# create empty df\n",
    "#old_format = '%Y-%m-%d %H:%M:%S'\n",
    "start_date = df_agg['date_start'].min() #'2014-01-01 00:00:00'\n",
    "end_date = df_agg['date_start'].max() #'2017-08-01 00:00:00'\n",
    "new_CC_col_name = 'CC3'\n",
    "new_CC_col_name2 = 'CCS'\n",
    "#df_name = df\n",
    "\n",
    "def create_empty_df(date_format, start_date, end_date, CC_col_name, new_col_name2):\n",
    "    all_days = pd.date_range(start_date, end_date, freq='D')\n",
    "\n",
    "    df = pd.DataFrame(index=pd.date_range(start = start_date, end = end_date, freq='90Min'))\n",
    "    df.index = [df.index[i].strftime(new_format) for i in range(0, len(df.index)) if i is not None]\n",
    "\n",
    "    #df[CC_col_name] = np.nan\n",
    "    new_CC3 = CC3 * (len(df.index)/len(CC3))\n",
    "    new_CCS = CCS * (len(df.index)/len(CCS))\n",
    "    df = df[:-1]\n",
    "\n",
    "    df[CC_col_name] = new_CC3\n",
    "    df[new_col_name2] = new_CCS\n",
    "    df.is_copy = False\n",
    "    return df\n",
    "\n",
    "df = create_empty_df(new_format, start_date, end_date, new_CC_col_name, new_CC_col_name2)\n",
    "df = df.reset_index()\n",
    "df = df.rename(columns={'index': 'date_start'})"
   ]
  },
  {
   "cell_type": "code",
   "execution_count": 282,
   "metadata": {
    "collapsed": true
   },
   "outputs": [],
   "source": [
    "cols_to_append = ['count_num_daily_events', 'deaths_civilians', 'deaths_unknown', 'best_est', 'high_est',\n",
    "                  'low_est', 'deaths_a', 'deaths_b']\n",
    "\n",
    "def append_empty_cols_to_df(df, col_names):\n",
    "    for i in cols_names:\n",
    "        df[i] = np.nan\n",
    "        return df\n",
    "        \n",
    "df = append_empty_cols_to_df(df, cols_to_append)"
   ]
  },
  {
   "cell_type": "code",
   "execution_count": 291,
   "metadata": {
    "collapsed": false
   },
   "outputs": [
    {
     "name": "stderr",
     "output_type": "stream",
     "text": [
      "/anaconda/lib/python2.7/site-packages/ipykernel/__main__.py:9: SettingWithCopyWarning: \n",
      "A value is trying to be set on a copy of a slice from a DataFrame\n",
      "\n",
      "See the caveats in the documentation: http://pandas.pydata.org/pandas-docs/stable/indexing.html#indexing-view-versus-copy\n"
     ]
    }
   ],
   "source": [
    "# very slow, still performs if we only select relevant time frame?\n",
    "\n",
    "def combine_empty_and_filled_df(df, df_agg, CC3, CCS, cols_to_append):\n",
    "    for i in range(0, len(df)):\n",
    "    #for i in range(0, 100):\n",
    "        if df.CC3[i] != 'PSE':\n",
    "            df_temp = df_agg[(df_agg.date_start == df.date_start[i]) & (df_agg.gwno == int(df.CCS[i]))]\n",
    "            #to list \n",
    "            if df_temp.empty is False:\n",
    "                #list to row\n",
    "                for k in cols_to_append:\n",
    "                    df[k][i] = df_temp[k]\n",
    "                    df.is_copy = False\n",
    "                    #df.loc[i, k] = df_temp[k] #--> bug\n",
    "    return df\n",
    "                    \n",
    "\n",
    "combined_df = combine_empty_and_filled_df(df, df_agg, CC3, CCS, cols_to_append)"
   ]
  },
  {
   "cell_type": "code",
   "execution_count": 297,
   "metadata": {
    "collapsed": false
   },
   "outputs": [
    {
     "data": {
      "text/plain": [
       "(11648, 11)"
      ]
     },
     "execution_count": 297,
     "metadata": {},
     "output_type": "execute_result"
    }
   ],
   "source": [
    "# subset df based on date\n",
    "df = df[(df['date_start'] > '2014-01-01') & (df['date_start'] <= '2017-08-01')]\n",
    "df.shape"
   ]
  },
  {
   "cell_type": "code",
   "execution_count": 209,
   "metadata": {
    "collapsed": false
   },
   "outputs": [],
   "source": [
    "#df = df.rename(columns={'date_start': 'date'})\n",
    "\n",
    "#merged = df.merge(df_agg, how='left', left_on='date', right_on='date_start')\n",
    "#merged[:50]\n",
    "\n",
    "#df.join(df_agg, lsuffix='_df', rsuffix='_df_agg')"
   ]
  },
  {
   "cell_type": "code",
   "execution_count": 210,
   "metadata": {
    "collapsed": false
   },
   "outputs": [],
   "source": [
    "#df.set_index('date').join(df_agg.set_index('date_start'))"
   ]
  },
  {
   "cell_type": "code",
   "execution_count": null,
   "metadata": {
    "collapsed": false
   },
   "outputs": [],
   "source": [
    "#df1=df\n",
    "#df_agg1=df_agg\n",
    "\n",
    "#df1.set_index(df1['date'], inplace=True)\n",
    "#df_agg1.set_index(df_agg1['date_start'], inplace=True) \n",
    "\n",
    "#df1.join(df_agg1, lsuffix='_df1', rsuffix='_df_agg1')\n",
    "\n",
    "#test = pd.concat([df, df_agg], axis=1, ) #both dfs must have same length \n",
    "#test[:30]\n",
    "#merge=pd.merge(df, df_agg, how='left', left_index=True, right_index=True)\n",
    "#merge[:30]\n",
    "\n",
    "#merged = df.merge(df_agg, left_on='date_start', right_on='date_start', how='outer')"
   ]
  }
 ],
 "metadata": {
  "kernelspec": {
   "display_name": "Python 2",
   "language": "python",
   "name": "python2"
  },
  "language_info": {
   "codemirror_mode": {
    "name": "ipython",
    "version": 2
   },
   "file_extension": ".py",
   "mimetype": "text/x-python",
   "name": "python",
   "nbconvert_exporter": "python",
   "pygments_lexer": "ipython2",
   "version": "2.7.11"
  }
 },
 "nbformat": 4,
 "nbformat_minor": 2
}
